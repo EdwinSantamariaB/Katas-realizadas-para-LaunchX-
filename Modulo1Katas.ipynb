{
 "cells": [
  {
   "cell_type": "markdown",
   "metadata": {},
   "source": [
    "KATA NO. 1"
   ]
  },
  {
   "cell_type": "markdown",
   "metadata": {},
   "source": [
    "EL oficial requiere la fecha del dia, como tambien se le adjuntara el horario.\n",
    "Esto con la finalidad de ser lo mas eficiente posible el programa."
   ]
  },
  {
   "cell_type": "code",
   "execution_count": 52,
   "metadata": {},
   "outputs": [
    {
     "name": "stdout",
     "output_type": "stream",
     "text": [
      "La fecha y hora es:  19/02/2022 20:54:15\n"
     ]
    }
   ],
   "source": [
    "import datetime\n",
    "dia_fecha = datetime.datetime.now()\n",
    "print(\"La fecha y hora es: \", str(dia_fecha.strftime('%d/%m/%Y %H:%M:%S')))\n"
   ]
  },
  {
   "cell_type": "markdown",
   "metadata": {},
   "source": [
    "Posteriormente de haber realizado un calendario con fecha incluida nosotros debemos realizar una tarea mas."
   ]
  },
  {
   "cell_type": "markdown",
   "metadata": {},
   "source": [
    "Conversor parsec a años luz"
   ]
  },
  {
   "cell_type": "code",
   "execution_count": 57,
   "metadata": {},
   "outputs": [
    {
     "name": "stdout",
     "output_type": "stream",
     "text": [
      "Los años luz equivalentes a  1.0 parsecs son igual a 3.262 años luz\n"
     ]
    }
   ],
   "source": [
    "parsec=float(input(\"Introduce los parsecs a convertir: \"))\n",
    "aluz=parsec*3.262\n",
    "print(\"Los años luz equivalentes a \", parsec, \"parsecs son igual a\", aluz, \"años luz\")"
   ]
  }
 ],
 "metadata": {
  "interpreter": {
   "hash": "d29ee2f0a91a15fbd161440d0e925871e5fb2bf33e355256016e4beceb43afd4"
  },
  "kernelspec": {
   "display_name": "Python 3.10.0 64-bit",
   "language": "python",
   "name": "python3"
  },
  "language_info": {
   "codemirror_mode": {
    "name": "ipython",
    "version": 3
   },
   "file_extension": ".py",
   "mimetype": "text/x-python",
   "name": "python",
   "nbconvert_exporter": "python",
   "pygments_lexer": "ipython3",
   "version": "3.10.0"
  },
  "orig_nbformat": 4
 },
 "nbformat": 4,
 "nbformat_minor": 2
}
