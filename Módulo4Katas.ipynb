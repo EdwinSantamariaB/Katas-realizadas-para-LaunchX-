{
  "cells": [
    {
      "cell_type": "markdown",
      "metadata": {},
      "source": [
        "# Ejercicio 1: Transformar cadenas\n",
        "Hay varias operaciones que puedes realizar en las cadenas cuando las manipulamos. En este ejercicio, usarás métodos de cadena para modificar el texto con hechos sobre la Luna y luego extraerás información para crear un breve resumen.\n",
        "\n",
        "> **Nota**\n",
        "> Dedica unos minutos a tratar de encontrar una solución. Luego desplázate hacia abajo hasta la parte inferior para ver si has logrado compilar el programa de acuerdo con las especificaciones."
      ]
    },
    {
      "cell_type": "markdown",
      "metadata": {},
      "source": [
        "El texto con el que trabajarás es el siguiente: "
      ]
    },
    {
      "cell_type": "code",
      "execution_count": null,
      "metadata": {},
      "outputs": [],
      "source": [
        "text = \"\"\"Interesting facts about the Moon. The Moon is Earth's only satellite. There are several interesting facts about the Moon and how it affects life here on Earth. \n",
        "On average, the Moon moves 4cm away from the Earth every year. This yearly drift is not significant enough to cause immediate effects on Earth. The highest daylight temperature of the Moon is 127 C.\"\"\""
      ]
    },
    {
      "cell_type": "markdown",
      "metadata": {},
      "source": [
        "Primero, divide el texto en cada oración para trabajar con su contenido:"
      ]
    },
    {
      "cell_type": "code",
      "execution_count": 2,
      "metadata": {},
      "outputs": [
        {
          "data": {
            "text/plain": [
              "['Interesting',\n",
              " 'facts',\n",
              " 'about',\n",
              " 'the',\n",
              " 'Moon.',\n",
              " 'The',\n",
              " 'Moon',\n",
              " 'is',\n",
              " \"Earth's\",\n",
              " 'only',\n",
              " 'satellite.',\n",
              " 'There',\n",
              " 'are',\n",
              " 'several',\n",
              " 'interesting',\n",
              " 'facts',\n",
              " 'about',\n",
              " 'the',\n",
              " 'Moon',\n",
              " 'and',\n",
              " 'how',\n",
              " 'it',\n",
              " 'affects',\n",
              " 'life',\n",
              " 'here',\n",
              " 'on',\n",
              " 'Earth.',\n",
              " 'On',\n",
              " 'average,',\n",
              " 'the',\n",
              " 'Moon',\n",
              " 'moves',\n",
              " '4cm',\n",
              " 'away',\n",
              " 'from',\n",
              " 'the',\n",
              " 'Earth',\n",
              " 'every',\n",
              " 'year.',\n",
              " 'This',\n",
              " 'yearly',\n",
              " 'drift',\n",
              " 'is',\n",
              " 'not',\n",
              " 'significant',\n",
              " 'enough',\n",
              " 'to',\n",
              " 'cause',\n",
              " 'immediate',\n",
              " 'effects',\n",
              " 'on',\n",
              " 'Earth.',\n",
              " 'The',\n",
              " 'highest',\n",
              " 'daylight',\n",
              " 'temperature',\n",
              " 'of',\n",
              " 'the',\n",
              " 'Moon',\n",
              " 'is',\n",
              " '127',\n",
              " 'C.']"
            ]
          },
          "execution_count": 2,
          "metadata": {},
          "output_type": "execute_result"
        }
      ],
      "source": [
        "# Añade el código necesario\n",
        "text = \"\"\"Interesting facts about the Moon. The Moon is Earth's only satellite. There are several interesting facts about the Moon and how it affects life here on Earth. \n",
        "On average, the Moon moves 4cm away from the Earth every year. This yearly drift is not significant enough to cause immediate effects on Earth. The highest daylight temperature of the Moon is 127 C.\"\"\"\n",
        "\n",
        "text.split()"
      ]
    },
    {
      "cell_type": "markdown",
      "metadata": {},
      "source": [
        "Ahora, define algunas palabras clave para búsqueda que te ayudarán a determinar si una oración contiene un hecho."
      ]
    },
    {
      "cell_type": "code",
      "execution_count": 1,
      "metadata": {},
      "outputs": [
        {
          "name": "stdout",
          "output_type": "stream",
          "text": [
            "La palabra clave 'average' se encuentra en la posicion 164, la segunda palabra clave en 326 y la ultima en la posicion -1\n"
          ]
        }
      ],
      "source": [
        "# Define las palabras pista: average, temperature y distance suenan bien\n",
        "text = \"\"\"Interesting facts about the Moon. The Moon is Earth's only satellite. There are several interesting facts about the Moon and how it affects life here on Earth. \n",
        "On average, the Moon moves 4cm away from the Earth every year. This yearly drift is not significant enough to cause immediate effects on Earth. The highest daylight temperature of the Moon is 127 C.\"\"\"\n",
        "palabra1=text.find(\"average\")\n",
        "palabra2=text.find(\"temperature\")\n",
        "palabra3=text.find(\"distance\")\n",
        "print(f\"La palabra clave 'average' se encuentra en la posicion {palabra1}, la segunda palabra clave en {palabra2} y la ultima en la posicion {palabra3}\")\n"
      ]
    },
    {
      "cell_type": "markdown",
      "metadata": {},
      "source": [
        "Cre un bucle para imprimir solo datos sobre la Luna que estén relacionados con las palabras clave definidas anteriormente:"
      ]
    },
    {
      "cell_type": "code",
      "execution_count": 3,
      "metadata": {},
      "outputs": [
        {
          "name": "stdout",
          "output_type": "stream",
          "text": [
            "average,\n",
            "temperature\n"
          ]
        }
      ],
      "source": [
        "# Ciclo for para recorrer la cadena\n",
        "text = \"\"\"Interesting facts about the Moon. The Moon is Earth's only satellite. There are several interesting facts about the Moon and how it affects life here on Earth. \n",
        "On average, the Moon moves 4cm away from the Earth every year. This yearly drift is not significant enough to cause immediate effects on Earth. The highest daylight temperature of the Moon is 127 C.\"\"\"\n",
        "minu=text.lower()\n",
        "buscar=minu.split()\n",
        "key_words = [\"average\", \"temperature\", \"distance\"]\n",
        "for sentence in buscar:\n",
        "    for key_word in key_words:\n",
        "        if key_word in sentence:\n",
        "            print(sentence)\n",
        "            break\n",
        "##Este ejercicio si lo realice con apoyo :( de las respuestas\n"
      ]
    },
    {
      "cell_type": "markdown",
      "metadata": {},
      "source": [
        "Finalmente, actualiza el bucle(ciclo) para cambiar _C_ a _Celsius_:"
      ]
    },
    {
      "cell_type": "code",
      "execution_count": 4,
      "metadata": {},
      "outputs": [
        {
          "name": "stdout",
          "output_type": "stream",
          "text": [
            " \n",
            "on average, the moon moves 4Celsiusm away from the earth every year\n",
            " the highest daylight temperature of the moon is 127 Celsius\n"
          ]
        }
      ],
      "source": [
        "# Ciclo para cambiar C a Celsius\n",
        "text = \"\"\"Interesting facts about the Moon. The Moon is Earth's only satellite. There are several interesting facts about the Moon and how it affects life here on Earth. \n",
        "On average, the Moon moves 4cm away from the Earth every year. This yearly drift is not significant enough to cause immediate effects on Earth. The highest daylight temperature of the Moon is 127 C.\"\"\"\n",
        "minu=text.lower()\n",
        "buscar=minu.split('.')\n",
        "key_words = [\"average\", \"temperature\", \"distance\"]\n",
        "for sentence in buscar:\n",
        "    for key_word in key_words:\n",
        "        if key_word in sentence:\n",
        "            print(sentence.replace('c','Celsius'))\n",
        "            break"
      ]
    },
    {
      "cell_type": "markdown",
      "metadata": {},
      "source": [
        "> Recuerda: Lo importante es intentarlo, puedes auxiliarte de internet, libros, etc. El objetivo de una kata es la comprobación de la comprensión de la lección y su aplicación inmediata a la resolución de problemas. Go for it!"
      ]
    },
    {
      "cell_type": "markdown",
      "metadata": {},
      "source": [
        "# Ejercicio 2: Formateando Cadenas\n",
        "\n",
        "Saber cómo dar formato a las cadenas es esencial cuando se presenta información de un programa. Hay algunas maneras diferentes de lograr esto en Python. En este ejercicio, se utilizan variables que contienen datos clave sobre la gravedad en varias lunas y luego se utilizan para dar formato e imprimir la información.\n",
        "\n",
        "El formato tiene que acomodar información sobre otras lunas, por lo que debe ser genérico.\n",
        "\n",
        "En lugar de reemplazar las variables en una cadena larga como parte de un párrafo, utiliza la información para presentarla en un formato tabular. El resultado debería verse así:\n",
        "\n",
        "```\n",
        "Gravity Facts about Ganymede\n",
        "-------------------------------------------------------------------------------\n",
        "Planet Name: Mars\n",
        "Gravity on Ganymede: 1.4300000000000002 m/s2\n",
        "```"
      ]
    },
    {
      "cell_type": "code",
      "execution_count": 6,
      "metadata": {},
      "outputs": [
        {
          "name": "stdout",
          "output_type": "stream",
          "text": [
            "Datos de Moon y Earth\n",
            "------------------------------------------------------------\n",
            "Planeta: Earth \n",
            "Gravedad(m/s2): 1.62 m2\n"
          ]
        }
      ],
      "source": [
        "# Datos con los que vas a trabajar\n",
        "name = \"Moon\"\n",
        "gravity = round(0.00162*1000,3) # in kms\n",
        "planet = \"Earth\"\n",
        "print(f\"\"\"Datos de {name} y {planet}\n",
        "------------------------------------------------------------\n",
        "Planeta: {planet} \n",
        "Gravedad(m/s2): {gravity} m2\"\"\")"
      ]
    },
    {
      "cell_type": "markdown",
      "metadata": {},
      "source": [
        "Primero, crea un título para el texto. Debido a que este texto trata sobre la gravedad en la Tierra y la Luna, úsalo para crear un título significativo. Utiliza las variables en lugar de escribir."
      ]
    },
    {
      "cell_type": "code",
      "execution_count": 7,
      "metadata": {},
      "outputs": [
        {
          "name": "stdout",
          "output_type": "stream",
          "text": [
            "Datos de la luna y la tierra\n"
          ]
        }
      ],
      "source": [
        "# Creamos el título\n",
        "titulo='Datos de la luna y la tierra'\n",
        "print(titulo)"
      ]
    },
    {
      "cell_type": "markdown",
      "metadata": {},
      "source": [
        "Ahora crea una plantilla de cadena multilínea para contener el resto de la información. En lugar de usar kilómetros, debes convertir la distancia a metros multiplicando por 1,000."
      ]
    },
    {
      "cell_type": "code",
      "execution_count": 120,
      "metadata": {},
      "outputs": [
        {
          "ename": "SyntaxError",
          "evalue": "f-string: invalid syntax. Perhaps you forgot a comma? (156671274.py, line 7)",
          "output_type": "error",
          "traceback": [
            "\u001b[1;36m  Input \u001b[1;32mIn [120]\u001b[1;36m\u001b[0m\n\u001b[1;33m    print(f\"\"\"Planeta: {intoduzca la variable \"planet\"} y\u001b[0m\n\u001b[1;37m     ^\u001b[0m\n\u001b[1;31mSyntaxError\u001b[0m\u001b[1;31m:\u001b[0m f-string: invalid syntax. Perhaps you forgot a comma?\n"
          ]
        }
      ],
      "source": [
        "# Creamos la plantilla\n",
        "titulo=(f'Datos de {name} y {planet}')\n",
        "f'{titulo.tittle()}'\n",
        "name = \"Moon\"\n",
        "gravity = 0.00162*1000 # in kms\n",
        "planet = \"Earth\"\n",
        "print(f\"\"\"Planeta: {intoduzca la variable \"planet\"} y \n",
        "Gravedad: {introuduzca la variable \"gravity\"}\n",
        "nombre:{Introduzca la variable \"name\"}'\"\"\")\n"
      ]
    },
    {
      "cell_type": "markdown",
      "metadata": {},
      "source": [
        "Finalmente, usa ambas variables para unir el título y los hechos."
      ]
    },
    {
      "cell_type": "code",
      "execution_count": 8,
      "metadata": {},
      "outputs": [
        {
          "name": "stdout",
          "output_type": "stream",
          "text": [
            "Datos de Moon y Earth\n",
            "Planeta: Earth y \n",
            "Gravedad: 1.62\n",
            "nombre:Moon\n"
          ]
        }
      ],
      "source": [
        "# Unión de ambas cadenas\n",
        "titulo=(f'Datos de {name} y {planet}')\n",
        "print(titulo)\n",
        "name = \"Moon\"\n",
        "gravity = round(0.00162*1000,2) # in kms\n",
        "planet = \"Earth\"\n",
        "print(f\"\"\"Planeta: {planet} y \n",
        "Gravedad: {gravity}\n",
        "nombre:{name}\"\"\")"
      ]
    },
    {
      "cell_type": "markdown",
      "metadata": {},
      "source": [
        "Ahora usa información de una luna diferente para ver si la plantilla todavía funciona.\n",
        "\n",
        "Datos muestra: \n",
        "```\n",
        "planeta = 'Marte '\n",
        "gravedad  = 0.00143\n",
        "nombre = 'Ganímedes'\n",
        "```"
      ]
    },
    {
      "cell_type": "code",
      "execution_count": 9,
      "metadata": {},
      "outputs": [
        {
          "name": "stdout",
          "output_type": "stream",
          "text": [
            "Datos De Moon Y Earth\n",
            "Planeta: Martes y \n",
            "Gravedad: 1.43\n",
            "nombre:Ganímedes\n"
          ]
        }
      ],
      "source": [
        "# Comprueba la plantilla\n",
        "# print(nombre_plantilla)\n",
        "titulo=(f'Datos de {name} y {planet}')\n",
        "print(titulo.title())\n",
        "name = \"Ganímedes\"\n",
        "gravity = round(0.00143*1000,2) # in kms\n",
        "planet = \"Martes\"\n",
        "print(f\"\"\"Planeta: {planet} y \n",
        "Gravedad: {gravity}\n",
        "nombre:{name}\"\"\")"
      ]
    },
    {
      "cell_type": "markdown",
      "metadata": {},
      "source": [
        "La salida no muestra información sobre Marte. Todavía muestra información sobre la Luna. Esto sucede porque las cadenas f están ansiosas en su evaluación, por lo que las variables una vez asignadas no se pueden reasignar. Para evitar este problema, vuelva a hacer la plantilla para utilizar .format():"
      ]
    },
    {
      "cell_type": "code",
      "execution_count": 10,
      "metadata": {},
      "outputs": [
        {
          "name": "stdout",
          "output_type": "stream",
          "text": [
            "Datos De Ganímedes Y Martes\n",
            "Planeta: Martes y \n",
            "Gravedad: 1.43\n",
            "nombre:Ganímedes\n"
          ]
        }
      ],
      "source": [
        "# Nueva plantilla\n",
        "titulo=(f'Datos de {name} y {planet}')\n",
        "print(titulo.title())\n",
        "name = \"Ganímedes\"\n",
        "gravity = round(0.00143*1000,2) # in kms\n",
        "planet = \"Martes\"\n",
        "print(f\"\"\"Planeta: {planet} y \n",
        "Gravedad: {gravity}\n",
        "nombre:{name}\"\"\")\n"
      ]
    },
    {
      "cell_type": "markdown",
      "metadata": {},
      "source": [
        "Debido a que .format() no permite expresiones, la gravedad en Ganímedes es incorrecta. Asegúrese de que la operación se realiza fuera de la plantilla de formato e imprima de nuevo para ver el resultado de trabajo."
      ]
    },
    {
      "cell_type": "code",
      "execution_count": 11,
      "metadata": {},
      "outputs": [
        {
          "name": "stdout",
          "output_type": "stream",
          "text": [
            "Datos De Ganímedes Y Martes\n",
            "Planeta: Martes y \n",
            "Gravedad: 1.43\n",
            "nombre:Ganímedes\n"
          ]
        }
      ],
      "source": [
        "# Pista: print(nueva_plantilla.format(variables))\n",
        "titulo=(f'Datos de {name} y {planet}')\n",
        "print(titulo.title())\n",
        "name = \"Ganímedes\"\n",
        "gravity = round(0.00143*1000,2) # in kms\n",
        "planet = \"Martes\"\n",
        "print(f\"\"\"Planeta: {planet} y \n",
        "Gravedad: {gravity}\n",
        "nombre:{name}\"\"\")\n",
        "#Me parecio mejor ocupar esta forma de acuerdo al conocimiento con el que cuento en este instante :)"
      ]
    },
    {
      "cell_type": "markdown",
      "metadata": {},
      "source": [
        "## Soluciones"
      ]
    },
    {
      "cell_type": "markdown",
      "metadata": {},
      "source": [
        "## Ejercicio 1"
      ]
    },
    {
      "cell_type": "code",
      "execution_count": null,
      "metadata": {},
      "outputs": [],
      "source": [
        "# Divide el texto\n",
        "text_parts = text.split('. ')\n",
        "text_parts"
      ]
    },
    {
      "cell_type": "code",
      "execution_count": null,
      "metadata": {},
      "outputs": [],
      "source": [
        "# Palabras clave\n",
        "key_words = [\"average\", \"temperature\", \"distance\"]\n"
      ]
    },
    {
      "cell_type": "code",
      "execution_count": null,
      "metadata": {},
      "outputs": [],
      "source": [
        "# Ciclo for para recorrer la cadena\n",
        "for sentence in text_parts:\n",
        "    for key_word in key_words:\n",
        "        if key_word in sentence:\n",
        "            print(sentence)\n",
        "            break"
      ]
    },
    {
      "cell_type": "code",
      "execution_count": null,
      "metadata": {},
      "outputs": [],
      "source": [
        "# Ciclo para cambiar C a Celsius\n",
        "for sentence in text_parts:\n",
        "    for key_word in key_words:\n",
        "        if key_word in sentence:\n",
        "            print(sentence.replace(' C', ' Celsius'))\n",
        "            break"
      ]
    },
    {
      "cell_type": "markdown",
      "metadata": {},
      "source": [
        "## Ejercicio 2"
      ]
    },
    {
      "cell_type": "code",
      "execution_count": null,
      "metadata": {},
      "outputs": [],
      "source": [
        "# Datos con los que vamos a trabajar\n",
        "\n",
        "planeta = 'Marte '\n",
        "gravedad  = 0.00143\n",
        "nombre = 'Ganímedes'"
      ]
    },
    {
      "cell_type": "code",
      "execution_count": null,
      "metadata": {},
      "outputs": [],
      "source": [
        "# Creamos el título\n",
        "title = f'datos de gravedad sobre {nombre}'"
      ]
    },
    {
      "cell_type": "code",
      "execution_count": null,
      "metadata": {},
      "outputs": [],
      "source": [
        "# Creamos la plantilla\n",
        "hechos = f\"\"\"{'-'*80} \n",
        "Nombre del planeta: {planeta} \n",
        "Gravedad en {nombre}: {gravedad * 1000} m/s2 \n",
        "\"\"\""
      ]
    },
    {
      "cell_type": "code",
      "execution_count": 104,
      "metadata": {},
      "outputs": [
        {
          "ename": "NameError",
          "evalue": "name 'title' is not defined",
          "output_type": "error",
          "traceback": [
            "\u001b[1;31m---------------------------------------------------------------------------\u001b[0m",
            "\u001b[1;31mNameError\u001b[0m                                 Traceback (most recent call last)",
            "\u001b[1;32me:\\Users\\Edwin\\Desktop\\Certificacion Full Stack\\CursoIntroPython-main\\CursoIntroPython-main\\Módulo 4 - Cadenas\\Módulo4Katas.ipynb Cell 37'\u001b[0m in \u001b[0;36m<module>\u001b[1;34m\u001b[0m\n\u001b[0;32m      <a href='vscode-notebook-cell:/e%3A/Users/Edwin/Desktop/Certificacion%20Full%20Stack/CursoIntroPython-main/CursoIntroPython-main/M%C3%B3dulo%204%20-%20Cadenas/M%C3%B3dulo4Katas.ipynb#ch0000036?line=0'>1</a>\u001b[0m \u001b[39m# Unión de ambas cadenas\u001b[39;00m\n\u001b[1;32m----> <a href='vscode-notebook-cell:/e%3A/Users/Edwin/Desktop/Certificacion%20Full%20Stack/CursoIntroPython-main/CursoIntroPython-main/M%C3%B3dulo%204%20-%20Cadenas/M%C3%B3dulo4Katas.ipynb#ch0000036?line=1'>2</a>\u001b[0m template \u001b[39m=\u001b[39m \u001b[39mf\u001b[39m\u001b[39m\"\"\"\u001b[39m\u001b[39m{\u001b[39;00mtitle\u001b[39m.\u001b[39mtitle()\u001b[39m}\u001b[39;00m\u001b[39m \u001b[39m\n\u001b[0;32m      <a href='vscode-notebook-cell:/e%3A/Users/Edwin/Desktop/Certificacion%20Full%20Stack/CursoIntroPython-main/CursoIntroPython-main/M%C3%B3dulo%204%20-%20Cadenas/M%C3%B3dulo4Katas.ipynb#ch0000036?line=2'>3</a>\u001b[0m \u001b[39m{\u001b[39;00mhechos\u001b[39m}\u001b[39;00m\u001b[39m \u001b[39m\n\u001b[0;32m      <a href='vscode-notebook-cell:/e%3A/Users/Edwin/Desktop/Certificacion%20Full%20Stack/CursoIntroPython-main/CursoIntroPython-main/M%C3%B3dulo%204%20-%20Cadenas/M%C3%B3dulo4Katas.ipynb#ch0000036?line=3'>4</a>\u001b[0m \u001b[39m\"\"\"\u001b[39m \n\u001b[0;32m      <a href='vscode-notebook-cell:/e%3A/Users/Edwin/Desktop/Certificacion%20Full%20Stack/CursoIntroPython-main/CursoIntroPython-main/M%C3%B3dulo%204%20-%20Cadenas/M%C3%B3dulo4Katas.ipynb#ch0000036?line=4'>5</a>\u001b[0m \u001b[39mprint\u001b[39m(hechos)\n",
            "\u001b[1;31mNameError\u001b[0m: name 'title' is not defined"
          ]
        }
      ],
      "source": [
        "# Unión de ambas cadenas\n",
        "template = f\"\"\"{title.title()} \n",
        "{hechos} \n",
        "\"\"\" \n",
        "print(hechos)"
      ]
    },
    {
      "cell_type": "code",
      "execution_count": null,
      "metadata": {},
      "outputs": [],
      "source": [
        "# Nuevos datos muestra\n",
        "planeta = 'Marte '\n",
        "gravedad  = 0.00143\n",
        "nombre = 'Ganímedes'"
      ]
    },
    {
      "cell_type": "code",
      "execution_count": null,
      "metadata": {},
      "outputs": [],
      "source": [
        "# Comprobamos la plantilla\n",
        "print(hechos)"
      ]
    },
    {
      "cell_type": "code",
      "execution_count": null,
      "metadata": {},
      "outputs": [],
      "source": [
        "new_template = \"\"\"\n",
        "Datos de Gravedad sobre: {nombre}\n",
        "-------------------------------------------------------------------------------\n",
        "Nombre del planeta: {planeta}\n",
        "Gravedad en {nombre}: {gravedad} m/s2\n",
        "\"\"\"\n",
        "print(new_template.format(nombre=nombre, planeta=planeta, gravedad=gravedad))"
      ]
    },
    {
      "cell_type": "code",
      "execution_count": null,
      "metadata": {},
      "outputs": [],
      "source": [
        "# Pista: print(nueva_plantilla.format(variables))\n",
        "print(new_template.format(nombre=nombre, planeta=planeta, gravedad=gravedad*1000))"
      ]
    },
    {
      "cell_type": "markdown",
      "metadata": {},
      "source": [
        "Curso Propedútico de Python para Launch X - Innovacción Virtual.\n",
        "\n",
        "Material desarrollado con base en los contenidos de MSLearn y la metáfora de LaunchX, traducción e implementación por: Fernanda Ochoa - Learning Producer de LaunchX.\n",
        "\n",
        "Redes:\n",
        "* GitHub: [FernandaOchoa](https://github.com/FernandaOchoa)\n",
        "* Twitter: [@imonsh](https://twitter.com/imonsh)\n",
        "* Instagram: [fherz8a](https://www.instagram.com/fherz8a/)"
      ]
    }
  ],
  "metadata": {
    "interpreter": {
      "hash": "502cd6c3b6c9e666d195e1caff9d64ea12bf644e547a4c8fae84812082c54b6f"
    },
    "kernel_info": {
      "name": "conda-env-py37_default-py"
    },
    "kernelspec": {
      "display_name": "py37_default",
      "language": "python",
      "name": "python3"
    },
    "language_info": {
      "codemirror_mode": {
        "name": "ipython",
        "version": 3
      },
      "file_extension": ".py",
      "mimetype": "text/x-python",
      "name": "python",
      "nbconvert_exporter": "python",
      "pygments_lexer": "ipython3",
      "version": "3.10.2"
    },
    "nteract": {
      "version": "nteract-front-end@1.0.0"
    },
    "orig_nbformat": 4
  },
  "nbformat": 4,
  "nbformat_minor": 2
}
